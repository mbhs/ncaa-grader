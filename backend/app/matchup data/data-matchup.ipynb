{
 "cells": [
  {
   "cell_type": "code",
   "execution_count": 11,
   "metadata": {},
   "outputs": [],
   "source": [
    "import pandas as pd\n",
    "import numpy as np\n",
    "import matplotlib.pyplot as plt"
   ]
  },
  {
   "cell_type": "code",
   "execution_count": 14,
   "metadata": {},
   "outputs": [],
   "source": [
    "# read in the data\n",
    "df = pd.read_csv('matchups 22-23.csv')\n",
    "\n",
    "# drop unnamed columns\n",
    "df = df.loc[:, ~df.columns.str.contains('^Unnamed')]\n",
    "\n",
    "# rename the Schl column to School\n",
    "df = df.rename(columns={'Schl': 'team'})\n",
    "\n",
    "# reanme the Opp to team_2\n",
    "df = df.rename(columns={'Opp': 'team_2'})\n",
    "\n",
    "# rename MOV to GPTS\n",
    "df = df.rename(columns={'MOV': 'GPTS'})\n",
    "\n",
    "# drop the Year, Date, Rk., Opp, PTS, OPP columns\n",
    "df = df.drop(columns=['Year', 'Date', 'Rk.', 'Rk..1', 'PTS', 'OPP'])\n",
    "\n",
    "# read the kaggle Data\n",
    "kaggle = pd.read_csv('kaggle.csv')\n",
    "\n",
    "# map the kaggle id to team name\n",
    "kaggle_dict = {}\n",
    "for index, row in kaggle.iterrows():\n",
    "    kaggle_dict[row['team name ']] = row['TeamID']\n",
    "\n",
    "# create a new column in the dataframe with the kaggle id using the dictionary and the team name\n",
    "df['kaggle_id'] = df['team'].map(kaggle_dict)\n",
    "df['kaggle_id_2'] = df['team_2'].map(kaggle_dict)\n",
    "\n",
    "# if kaggle_id_2 is less than kaggle_id, swap the two columns and swap Schl and Opp as well as GPTS and GOPTS, and make GPTSDiff negative\n",
    "df.loc[df['kaggle_id_2'] < df['kaggle_id'], 'GPTS'] = -df.loc[df['kaggle_id_2'] < df['kaggle_id'], 'GPTS']\n",
    "df.loc[df['kaggle_id_2'] < df['kaggle_id'], ['kaggle_id', 'kaggle_id_2', 'team', 'team_2']] = df.loc[df['kaggle_id_2'] < df['kaggle_id'], ['kaggle_id_2', 'kaggle_id', 'team_2', 'team']].values\n",
    "\n",
    "# remove duplicate matchups\n",
    "df = df.drop_duplicates(subset=['kaggle_id', 'kaggle_id_2'], keep='first')\n",
    "\n",
    "# create a new column outcome with 1 if the team won and 0 if the team lost\n",
    "df['outcome'] = np.where(df['GPTS'] > 0, 1, 0)\n",
    "\n",
    "df = df.drop(columns=['GPTS'])\n",
    "\n",
    "# save to matchups.csv\n",
    "df.to_csv('matchups.csv', index=False)"
   ]
  },
  {
   "cell_type": "code",
   "execution_count": null,
   "metadata": {},
   "outputs": [],
   "source": []
  }
 ],
 "metadata": {
  "kernelspec": {
   "display_name": "Python 3",
   "language": "python",
   "name": "python3"
  },
  "language_info": {
   "codemirror_mode": {
    "name": "ipython",
    "version": 3
   },
   "file_extension": ".py",
   "mimetype": "text/x-python",
   "name": "python",
   "nbconvert_exporter": "python",
   "pygments_lexer": "ipython3",
   "version": "3.11.4"
  },
  "orig_nbformat": 4
 },
 "nbformat": 4,
 "nbformat_minor": 2
}

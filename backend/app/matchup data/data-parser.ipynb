{
 "cells": [
  {
   "cell_type": "code",
   "execution_count": 2,
   "metadata": {},
   "outputs": [],
   "source": [
    "import pandas as pd\n",
    "import numpy as np\n",
    "import matplotlib.pyplot as plt"
   ]
  },
  {
   "cell_type": "code",
   "execution_count": 3,
   "metadata": {},
   "outputs": [],
   "source": [
    "# read the ratings data\n",
    "ratings = pd.read_csv('ratings 22-23.csv')\n",
    "\n",
    "# read the kaggle id data\n",
    "kaggle = pd.read_csv('kaggle.csv')\n",
    "\n",
    "# drop unnamed columns\n",
    "ratings = ratings.loc[:, ~ratings.columns.str.contains('^Unnamed')]\n",
    "\n",
    "# drop bad columns\n",
    "ratings = ratings.drop(['Rk', 'Conf'], axis=1)\n",
    "\n",
    "# rename Pts column to PPG\n",
    "ratings = ratings.rename(columns={'Pts': 'PPG'})\n",
    "\n",
    "# rename Opp column to OPPG\n",
    "ratings = ratings.rename(columns={'Opp': 'OPPG'})\n",
    "\n",
    "# rename the ORtg column to AdjORtg, DRtg to AdjDRtg, and NRtg to AdjNRtg\n",
    "ratings = ratings.rename(columns={'ORtg': 'AdjORtg', 'DRtg': 'AdjDRtg', 'NRtg': 'AdjNRtg'})\n",
    "\n",
    "# create a dictionary between the team name and the kaggle id\n",
    "kaggle_dict = {}\n",
    "for index, row in kaggle.iterrows():\n",
    "    kaggle_dict[row['team name ']] = row['TeamID']\n",
    "\n",
    "# create a new column in the dataframe with the kaggle id using the dictionary and the team name\n",
    "ratings['kaggle_id'] = ratings['School'].map(kaggle_dict)\n",
    "\n",
    "# make kaggle_id the third column\n",
    "cols = list(ratings.columns)\n",
    "cols = [cols[0]] + [cols[-1]] + cols[1:-1]\n",
    "ratings = ratings[cols]\n",
    "\n",
    "# standardize all the columns except for the team name and kaggle id with z-scores\n",
    "cols = ratings.columns[2:]\n",
    "for col in cols:\n",
    "    ratings[col] = (ratings[col] - ratings[col].mean()) / ratings[col].std()\n",
    "\n",
    "# save to a data file\n",
    "ratings.to_csv('data.csv', index=False)"
   ]
  }
 ],
 "metadata": {
  "kernelspec": {
   "display_name": "Python 3",
   "language": "python",
   "name": "python3"
  },
  "language_info": {
   "codemirror_mode": {
    "name": "ipython",
    "version": 3
   },
   "file_extension": ".py",
   "mimetype": "text/x-python",
   "name": "python",
   "nbconvert_exporter": "python",
   "pygments_lexer": "ipython3",
   "version": "3.11.4"
  },
  "orig_nbformat": 4
 },
 "nbformat": 4,
 "nbformat_minor": 2
}

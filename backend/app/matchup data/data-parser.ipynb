{
 "cells": [
  {
   "cell_type": "code",
   "execution_count": 10,
   "metadata": {},
   "outputs": [],
   "source": [
    "import pandas as pd\n",
    "import numpy as np\n",
    "import matplotlib.pyplot as plt"
   ]
  },
  {
   "cell_type": "code",
   "execution_count": 11,
   "metadata": {},
   "outputs": [],
   "source": [
    "# read the ratings data\n",
    "ratings = pd.read_csv('ratings 23-24.csv')\n",
    "\n",
    "# read the kaggle id data\n",
    "kaggle = pd.read_csv('kaggle.csv')\n",
    "\n",
    "# read the ncaa stats data\n",
    "stats = pd.read_csv('ncaa stats 23-24.csv')\n",
    "\n",
    "# keep only the rows that have a team name with NCAA in it\n",
    "# stats = stats[stats['School'].str.contains('NCAA')]\n",
    "\n",
    "# rename the Schools to get rid of the NCAA at the end\n",
    "stats['School'] = stats['School'].str.replace(' NCAA', '').str.strip()\n",
    "\n",
    "#for column in ['MP', 'OMP', '3PA', 'O3PA', 'OFG', 'TRB', 'OTRB', 'FG', 'OFG', 'FGA', 'PF', 'OPF', 'OFGA', '3P', 'OORB', 'OAST', 'AST', 'FT', 'OFT', 'FTA', 'OFTA', 'OFGA', 'ORB', 'OTRB', 'TOV', 'OTOV', 'STL', 'BLK', 'OSTL', 'OBLK']:\n",
    "for column in ['FGA', 'OTRB', 'TOV']:\n",
    "  stats[column] = stats[column] / stats['TG']\n",
    "\n",
    "# drop unnamed columns\n",
    "ratings = ratings.loc[:, ~ratings.columns.str.contains('^Unnamed')]\n",
    "\n",
    "# drop bad columns\n",
    "ratings = ratings.drop(['Rk', 'Conf'], axis=1)\n",
    "\n",
    "# rename Pts column to PPG\n",
    "ratings = ratings.rename(columns={'Pts': 'PPG'})\n",
    "\n",
    "# rename Opp column to OPPG\n",
    "ratings = ratings.rename(columns={'Opp': 'OPPG'})\n",
    "\n",
    "# rename the ORtg column to AdjORtg, DRtg to AdjDRtg, and NRtg to AdjNRtg\n",
    "ratings = ratings.rename(columns={'ORtg': 'AdjORtg', 'DRtg': 'AdjDRtg', 'NRtg': 'AdjNRtg'})\n",
    "\n",
    "# create a dictionary between the team name and the kaggle id\n",
    "kaggle_dict = {}\n",
    "for index, row in kaggle.iterrows():\n",
    "    kaggle_dict[row['team name ']] = row['TeamID']\n",
    "\n",
    "# create a new column in the dataframe with the kaggle id using the dictionary and the team name\n",
    "ratings['kaggle_id'] = ratings['School'].map(kaggle_dict)\n",
    "\n",
    "# merge the ratings data with the ncaa stats data\n",
    "ratings = ratings.merge(stats, left_on='School', right_on='School')\n",
    "\n",
    "# make kaggle_id the third column\n",
    "cols = list(ratings.columns)\n",
    "cols = [cols[0]] + [cols[-1]] + cols[1:-1]\n",
    "ratings = ratings[cols]\n",
    "\n",
    "# standardize all the columns except for the team name and kaggle id with z-scores\n",
    "# for col in cols:\n",
    "#     if col not in ['School', 'kaggle_id']:\n",
    "#         ratings[col] = (ratings[col] - ratings[col].mean()) / ratings[col].std()\n",
    "\n",
    "# save to a data file\n",
    "ratings.to_csv('data.csv', index=False)"
   ]
  },
  {
   "cell_type": "code",
   "execution_count": 12,
   "metadata": {},
   "outputs": [],
   "source": [
    "# read the stein file\n",
    "stein = pd.read_csv('stein.csv')\n",
    "\n",
    "# read the data file\n",
    "data = pd.read_csv('data.csv')\n",
    "\n",
    "# merge the stein data with the data file using the kaggle id\n",
    "data = data.merge(stein, left_on='kaggle_id', right_on='kaggle_id')\n",
    "\n",
    "# save to a data file\n",
    "data.to_csv('data-new.csv', index=False)"
   ]
  }
 ],
 "metadata": {
  "kernelspec": {
   "display_name": "Python 3",
   "language": "python",
   "name": "python3"
  },
  "language_info": {
   "codemirror_mode": {
    "name": "ipython",
    "version": 3
   },
   "file_extension": ".py",
   "mimetype": "text/x-python",
   "name": "python",
   "nbconvert_exporter": "python",
   "pygments_lexer": "ipython3",
   "version": "3.11.4"
  },
  "orig_nbformat": 4
 },
 "nbformat": 4,
 "nbformat_minor": 2
}
